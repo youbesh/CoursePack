{
 "cells": [
  {
   "cell_type": "markdown",
   "metadata": {
    "deletable": true,
    "editable": true,
    "slideshow": {
     "slide_type": "slide"
    }
   },
   "source": [
    "# [ScPo-CompEcon](https://github.com/ScPo-CompEcon/Syllabus) CoursePack"
   ]
  },
  {
   "cell_type": "markdown",
   "metadata": {
    "deletable": true,
    "editable": true,
    "slideshow": {
     "slide_type": "slide"
    }
   },
   "source": [
    "## Content\n",
    "\n",
    "This website contains the course material for the [computational economics course at Sciences Po](https://github.com/ScPo-CompEcon/Syllabus).  \n",
    "\n",
    "For the assosciated homeworks, please go to our [github organization](https://github.com/ScPo-CompEcon), which lists all of them. Instructions contained within.\n",
    "\n",
    "I recommend you clone this somewhere on your computer (don't install as a julia package). You can do this easily in Github Desktop as in the first homework. Choose a suitable location on your computer. Alternatively, in your terminal, do this:\n",
    "\n",
    "```bash\n",
    "git clone https://github.com/ScPo-CompEcon/CoursePack /whereto/on/your/computer\n",
    "```\n",
    "\n",
    "This way you have all the materials locally and can use the site even if offline."
   ]
  },
  {
   "cell_type": "markdown",
   "metadata": {
    "deletable": true,
    "editable": true,
    "slideshow": {
     "slide_type": "slide"
    }
   },
   "source": [
    "## Course Materials\n",
    "\n",
    "You can look at the material in a variety of formats. All content is given as `IJulia` notebooks, which you can edit on your computer, and from those notebooks I create `html` rendered versions, `pdf`s and html slides. The links below point to the actual website, so you need to be online to view them.  \n",
    "\n",
    "* Pdf versions do not contain outputs of plotting commands\n",
    "* But Pdf versions contain proper Bibtex citations\n",
    "\n",
    "In case you are offline, and if you cloned this repo as described above, just go to `/whereto/on/your/computer` and open files from that location. For example, to open the IJulia notebooks, do in julia\n",
    "\n",
    "```julia\n",
    "Pkg.add(\"IJulia\") # use once to install IJulia\n",
    "using IJulia\n",
    "notebook(dir=\"/whereto/on/your/computer/Notebooks\")  # that's the dir from above!\n",
    "```\n",
    "This will open up the Jupyter notebook at the location of your notebooks.\n",
    "\n",
    "\n",
    "\n",
    "### Html Rendered Notebooks \n",
    "\n",
    "[Basic Introduction to Julia](https://ScPo-CompEcon.github.io/CoursePack/Html/BasicIntroduction)  \n",
    "[Basic Introduction to Computing](https://ScPo-CompEcon.github.io/CoursePack/Html/BasicComputing)  \n",
    "[Numerical Integration](https://ScPo-CompEcon.github.io/CoursePack/Html/integration)  \n",
    "[Plots.jl](https://ScPo-CompEcon.github.io/CoursePack/Html/PlotsJL)  \n",
    "[Function Approximation](https://ScPo-CompEcon.github.io/CoursePack/Html/funcapprox)  \n",
    "[Unconstrained Optimization](https://ScPo-CompEcon.github.io/CoursePack/Html/optimization)  \n",
    "[Constrained Optimization](https://ScPo-CompEcon.github.io/CoursePack/Html/constrained-optimization)  \n",
    "[Dynamic Programming](https://ScPo-CompEcon.github.io/CoursePack/Html/dynamic-programming)\n",
    "\n",
    "\n",
    "\n",
    "\n",
    "### Slides\n",
    "\n",
    "[Basic Introduction to Julia](https://ScPo-CompEcon.github.io/CoursePack/Slides/BasicIntroduction)  \n",
    "[Basic Introduction to Computing](https://ScPo-CompEcon.github.io/CoursePack/Slides/BasicComputing)  \n",
    "[Plots.jl](https://ScPo-CompEcon.github.io/CoursePack/Slides/PlotsJL)  \n",
    "[Numerical Integration](https://ScPo-CompEcon.github.io/CoursePack/Slides/integration)  \n",
    "[Function Approximation](https://ScPo-CompEcon.github.io/CoursePack/Slides/funcapprox)  \n",
    "[Unconstrained Optimization](https://ScPo-CompEcon.github.io/CoursePack/Slides/optimization)   \n",
    "[Constrained Optimization](https://ScPo-CompEcon.github.io/CoursePack/Slides/constrained-optimization)  \n",
    "[Dynamic Programming](https://ScPo-CompEcon.github.io/CoursePack/Slides/dynamic-programming)\n",
    "\n",
    "\n",
    "\n",
    "### Pdf (does not contain plots - But proper citations!)\n",
    "\n",
    "[Basic Introduction to Julia](https://ScPo-CompEcon.github.io/CoursePack/Pdfs/BasicIntroduction.pdf)  \n",
    "[Basic Introduction to Computing](https://ScPo-CompEcon.github.io/CoursePack/Pdfs/BasicComputing.pdf)  \n",
    "[Plots.jl](https://ScPo-CompEcon.github.io/CoursePack/Pdfs/PlotsJL.pdf)    \n",
    "[Numerical Integration](https://ScPo-CompEcon.github.io/CoursePack/Pdfs/integration.pdf)    \n",
    "[Function Approximation](https://ScPo-CompEcon.github.io/CoursePack/Pdfs/funcapprox.pdf)  \n",
    "[Unconstrained Optimization](https://ScPo-CompEcon.github.io/CoursePack/Pdfs/optimization.pdf)  \n",
    "[Constrained Optimization](https://ScPo-CompEcon.github.io/CoursePack/Pdfs/constrained-optimization.pdf)  \n",
    "[Dynamic Programming](https://ScPo-CompEcon.github.io/CoursePack/Pdfs/dynamic-programming.pdf)\n",
    "\n",
    "## Required Packages\n",
    "\n",
    "Please have all of those installed. This list will be updated!\n",
    "\n",
    "- [Plots.jl](https://github.com/JuliaPlots/Plots.jl)\n",
    "- [PyPlot.jl](https://github.com/JuliaPy/PyPlot.jl)\n",
    "- [PlotlyJS.jl](http://spencerlyon.com/PlotlyJS.jl/)\n",
    "- [ScPoExample.jl](https://github.com/ScPo-CompEcon/ScPoExample.jl)\n",
    "- [Gallium.jl](https://github.com/Keno/Gallium.jl)\n",
    "- [Logging.jl](https://github.com/kmsquire/Logging.jl)\n",
    "* [DataFrames.jl](https://dataframesjl.readthedocs.io)\n",
    "* [DataFramesMeta.jl](https://github.com/JuliaStats/DataFramesMeta.jl)\n",
    "* [Queries.jl](https://github.com/davidanthoff/Query.jl)\n",
    "- [ForwardDiff.jl](https://github.com/JuliaDiff/ForwardDiff.jl)\n",
    "- [FastGaussQuadrature.jl](https://github.com/ajt60gaibb/FastGaussQuadrature.jl)\n",
    "- [Sobol.jl](https://github.com/stevengj/Sobol.jl)\n",
    "- [ApproxFun.jl](https://github.com/JuliaApproximation/ApproxFun.jl)\n",
    "- [Interpolations.jl](https://github.com/JuliaMath/Interpolations.jl)\n",
    "- [ApproXD.jl](https://github.com/floswald/ApproXD.jl)\n",
    "- [Optim.jl](https://github.com/JuliaNLSolvers/Optim.jl)\n",
    "- [JuMP.jl](https://github.com/JuliaOpt/JuMP.jl)  \n",
    "- [NLopt.jl](https://github.com/JuliaOpt/NLopt.jl)  \n",
    "- [Ipopt.jl](https://github.com/JuliaOpt/Ipopt.jl)  \n",
    "- [CompEcon.jl](https://github.com/QuantEcon/CompEcon.jl)  "
   ]
  },
  {
   "cell_type": "markdown",
   "metadata": {
    "deletable": true,
    "editable": true
   },
   "source": [
    "\n",
    "## How to build this \n",
    "\n",
    "You should only worry about this section if you want to rebuild the site yourself.\n",
    "\n",
    "#### Requirements\n",
    "\n",
    "```bash\n",
    "#python\n",
    "#latex\n",
    "#ruby\n",
    "pip install jupyter\n",
    "pip install pandoc\n",
    "```\n",
    "\n",
    "#### Building\n",
    "\n",
    "in the root of this repo do\n",
    "\n",
    "```bash\n",
    "rake # builds all\n",
    "rake html # builds only html\n",
    "rake slides # builds slides\n",
    "rake offline # builds offline slides; mathjax doesn't work properly offline.\n",
    "```\n",
    "\n",
    "\n",
    "\n"
   ]
  }
 ],
 "metadata": {
  "celltoolbar": "Slideshow",
  "kernelspec": {
   "display_name": "Julia 0.5.0",
   "language": "julia",
   "name": "julia-0.5"
  },
  "language_info": {
   "file_extension": ".jl",
   "mimetype": "application/julia",
   "name": "julia",
   "version": "0.5.0"
  }
 },
 "nbformat": 4,
 "nbformat_minor": 1
}
